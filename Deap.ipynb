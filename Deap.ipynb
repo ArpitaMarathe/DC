{
 "cells": [
  {
   "cell_type": "code",
   "execution_count": 2,
   "id": "57d7f162",
   "metadata": {},
   "outputs": [
    {
     "name": "stdout",
     "output_type": "stream",
     "text": [
      "Collecting deap\n",
      "  Using cached deap-1.4.1-cp39-cp39-win_amd64.whl (109 kB)\n",
      "Requirement already satisfied: numpy in c:\\users\\hp\\anaconda3\\lib\\site-packages (from deap) (1.21.5)\n",
      "Installing collected packages: deap\n",
      "Successfully installed deap-1.4.1\n",
      "Note: you may need to restart the kernel to use updated packages.\n"
     ]
    }
   ],
   "source": [
    "pip install deap"
   ]
  },
  {
   "cell_type": "code",
   "execution_count": 3,
   "id": "efd0bf21",
   "metadata": {},
   "outputs": [
    {
     "name": "stdout",
     "output_type": "stream",
     "text": [
      "gen\tnevals\n",
      "0  \t50    \n",
      "1  \t24    \n",
      "2  \t31    \n",
      "3  \t23    \n",
      "4  \t31    \n",
      "5  \t28    \n",
      "6  \t22    \n",
      "7  \t29    \n",
      "8  \t28    \n",
      "9  \t27    \n",
      "10 \t25    \n",
      "11 \t28    \n",
      "12 \t25    \n",
      "13 \t26    \n",
      "14 \t30    \n",
      "15 \t19    \n",
      "16 \t25    \n",
      "17 \t33    \n",
      "18 \t21    \n",
      "19 \t24    \n",
      "20 \t31    \n",
      "Best individual: [-0.04149231165391029, 0.01821710526665282, -0.022879398429235864]\n",
      "Best fitness: 0.00257694172316525\n"
     ]
    }
   ],
   "source": [
    "import random\n",
    "from deap import base, creator, tools, algorithms\n",
    "\n",
    "\n",
    "def eval_func(individual):\n",
    "    return sum(x ** 2 for x in individual),\n",
    "\n",
    "creator.create(\"FitnessMin\", base.Fitness, weights=(-1.0,))\n",
    "creator.create(\"Individual\", list, fitness=creator.FitnessMin)\n",
    "toolbox = base.Toolbox()\n",
    "toolbox.register(\"attr_float\", random.uniform, -5.0, 5.0)\n",
    "toolbox.register(\"individual\", tools.initRepeat, creator.Individual, toolbox.attr_float, n=3)\n",
    "toolbox.register(\"population\", tools.initRepeat, list, toolbox.individual)\n",
    "toolbox.register(\"mate\", tools.cxBlend, alpha=0.5)\n",
    "toolbox.register(\"mutate\", tools.mutGaussian, mu=0, sigma=1, indpb=0.2)\n",
    "toolbox.register(\"select\", tools.selTournament, tournsize=3)\n",
    "toolbox.register(\"evaluate\", eval_func)  \n",
    "\n",
    "population = toolbox.population(n=50)\n",
    "algorithms.eaSimple(population, toolbox, cxpb=0.5, mutpb=0.1, ngen=20)\n",
    "\n",
    "best_ind = tools.selBest(population, k=1)[0]\n",
    "best_fitness = best_ind.fitness.values[0]\n",
    "print(\"Best individual:\", best_ind)\n",
    "print(\"Best fitness:\", best_fitness)\n"
   ]
  },
  {
   "cell_type": "code",
   "execution_count": null,
   "id": "cb528c80",
   "metadata": {},
   "outputs": [],
   "source": []
  }
 ],
 "metadata": {
  "kernelspec": {
   "display_name": "Python 3 (ipykernel)",
   "language": "python",
   "name": "python3"
  },
  "language_info": {
   "codemirror_mode": {
    "name": "ipython",
    "version": 3
   },
   "file_extension": ".py",
   "mimetype": "text/x-python",
   "name": "python",
   "nbconvert_exporter": "python",
   "pygments_lexer": "ipython3",
   "version": "3.9.12"
  }
 },
 "nbformat": 4,
 "nbformat_minor": 5
}
