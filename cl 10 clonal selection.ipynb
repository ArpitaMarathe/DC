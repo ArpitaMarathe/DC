{
 "cells": [
  {
   "cell_type": "code",
   "execution_count": 1,
   "id": "f02f6964",
   "metadata": {},
   "outputs": [
    {
     "name": "stdout",
     "output_type": "stream",
     "text": [
      "Best Solution: [-0.00569886 -0.00058832  0.00117651]\n",
      "Objective Value: 3.420735981226886e-05\n"
     ]
    }
   ],
   "source": [
    "import numpy as np\n",
    "\n",
    "def objective_function(x):\n",
    "    return np.sum(x**2)\n",
    "\n",
    "\n",
    "def clonal_selection_algorithm(num_antibodies, num_dimensions, search_space, num_generations, num_clones, clone_factor, mutation_rate):\n",
    "    antibodies = np.random.uniform(search_space[:, 0], search_space[:, 1], size=(num_antibodies, num_dimensions))\n",
    "\n",
    "    for generation in range(num_generations):\n",
    "        fitness = np.array([objective_function(antibody) for antibody in antibodies])\n",
    "        clones = np.repeat(antibodies, np.round(num_clones * (1 / (1 + fitness * clone_factor))).astype(int), axis=0)\n",
    "        mutation_mask = np.random.rand(*clones.shape) < mutation_rate\n",
    "        mutation_amounts = np.random.uniform(-0.5, 0.5, size=clones.shape) * (search_space[:, 1] - search_space[:, 0])\n",
    "        mutated_clones = np.clip(clones + mutation_mask * mutation_amounts, search_space[:, 0], search_space[:, 1])\n",
    "        combined_population = np.vstack((antibodies, mutated_clones))\n",
    "        fitness_combined = np.array([objective_function(antibody) for antibody in combined_population])\n",
    "        antibodies = combined_population[np.argsort(fitness_combined)][:num_antibodies]\n",
    "\n",
    "    return antibodies[0]\n",
    "\n",
    "best_solution = clonal_selection_algorithm(50, 3, np.array([[-5,5]]* 3), 100, 10,0.1, 0.1)\n",
    "print(\"Best Solution:\", best_solution)\n",
    "print(\"Objective Value:\", objective_function(best_solution))\n",
    "\n"
   ]
  },
  {
   "cell_type": "code",
   "execution_count": null,
   "id": "74fbfbae",
   "metadata": {},
   "outputs": [],
   "source": []
  }
 ],
 "metadata": {
  "kernelspec": {
   "display_name": "Python 3 (ipykernel)",
   "language": "python",
   "name": "python3"
  },
  "language_info": {
   "codemirror_mode": {
    "name": "ipython",
    "version": 3
   },
   "file_extension": ".py",
   "mimetype": "text/x-python",
   "name": "python",
   "nbconvert_exporter": "python",
   "pygments_lexer": "ipython3",
   "version": "3.9.12"
  }
 },
 "nbformat": 4,
 "nbformat_minor": 5
}
